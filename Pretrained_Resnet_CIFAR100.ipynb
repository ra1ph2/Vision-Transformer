{
  "nbformat": 4,
  "nbformat_minor": 0,
  "metadata": {
    "colab": {
      "name": "Pretrained_Resnet_CIFAR100.ipynb",
      "provenance": [],
      "collapsed_sections": []
    },
    "kernelspec": {
      "name": "python3",
      "display_name": "Python 3"
    },
    "accelerator": "GPU",
    "widgets": {
      "application/vnd.jupyter.widget-state+json": {
        "3daae577eb7847e681d26a2f5f80d5a6": {
          "model_module": "@jupyter-widgets/controls",
          "model_name": "HBoxModel",
          "state": {
            "_view_name": "HBoxView",
            "_dom_classes": [],
            "_model_name": "HBoxModel",
            "_view_module": "@jupyter-widgets/controls",
            "_model_module_version": "1.5.0",
            "_view_count": null,
            "_view_module_version": "1.5.0",
            "box_style": "",
            "layout": "IPY_MODEL_5aada935278b4e3ab6a4c9dce89e0a93",
            "_model_module": "@jupyter-widgets/controls",
            "children": [
              "IPY_MODEL_2eec5b39fa6d45c9b6683e04b0302602",
              "IPY_MODEL_1fe8a70d52564451bd66bffa834e4e68"
            ]
          }
        },
        "5aada935278b4e3ab6a4c9dce89e0a93": {
          "model_module": "@jupyter-widgets/base",
          "model_name": "LayoutModel",
          "state": {
            "_view_name": "LayoutView",
            "grid_template_rows": null,
            "right": null,
            "justify_content": null,
            "_view_module": "@jupyter-widgets/base",
            "overflow": null,
            "_model_module_version": "1.2.0",
            "_view_count": null,
            "flex_flow": null,
            "width": null,
            "min_width": null,
            "border": null,
            "align_items": null,
            "bottom": null,
            "_model_module": "@jupyter-widgets/base",
            "top": null,
            "grid_column": null,
            "overflow_y": null,
            "overflow_x": null,
            "grid_auto_flow": null,
            "grid_area": null,
            "grid_template_columns": null,
            "flex": null,
            "_model_name": "LayoutModel",
            "justify_items": null,
            "grid_row": null,
            "max_height": null,
            "align_content": null,
            "visibility": null,
            "align_self": null,
            "height": null,
            "min_height": null,
            "padding": null,
            "grid_auto_rows": null,
            "grid_gap": null,
            "max_width": null,
            "order": null,
            "_view_module_version": "1.2.0",
            "grid_template_areas": null,
            "object_position": null,
            "object_fit": null,
            "grid_auto_columns": null,
            "margin": null,
            "display": null,
            "left": null
          }
        },
        "2eec5b39fa6d45c9b6683e04b0302602": {
          "model_module": "@jupyter-widgets/controls",
          "model_name": "FloatProgressModel",
          "state": {
            "_view_name": "ProgressView",
            "style": "IPY_MODEL_7245b6fd36ab443a8beadf411469d55e",
            "_dom_classes": [],
            "description": "",
            "_model_name": "FloatProgressModel",
            "bar_style": "info",
            "max": 1,
            "_view_module": "@jupyter-widgets/controls",
            "_model_module_version": "1.5.0",
            "value": 1,
            "_view_count": null,
            "_view_module_version": "1.5.0",
            "orientation": "horizontal",
            "min": 0,
            "description_tooltip": null,
            "_model_module": "@jupyter-widgets/controls",
            "layout": "IPY_MODEL_6c6ae091f6094c9ea4372e59dc4785b8"
          }
        },
        "1fe8a70d52564451bd66bffa834e4e68": {
          "model_module": "@jupyter-widgets/controls",
          "model_name": "HTMLModel",
          "state": {
            "_view_name": "HTMLView",
            "style": "IPY_MODEL_576fa5f99af74358959cddab5626aa64",
            "_dom_classes": [],
            "description": "",
            "_model_name": "HTMLModel",
            "placeholder": "​",
            "_view_module": "@jupyter-widgets/controls",
            "_model_module_version": "1.5.0",
            "value": " 169009152/? [00:20&lt;00:00, 46328110.33it/s]",
            "_view_count": null,
            "_view_module_version": "1.5.0",
            "description_tooltip": null,
            "_model_module": "@jupyter-widgets/controls",
            "layout": "IPY_MODEL_a6c9f58f3a5143ee94f95bc3531186be"
          }
        },
        "7245b6fd36ab443a8beadf411469d55e": {
          "model_module": "@jupyter-widgets/controls",
          "model_name": "ProgressStyleModel",
          "state": {
            "_view_name": "StyleView",
            "_model_name": "ProgressStyleModel",
            "description_width": "initial",
            "_view_module": "@jupyter-widgets/base",
            "_model_module_version": "1.5.0",
            "_view_count": null,
            "_view_module_version": "1.2.0",
            "bar_color": null,
            "_model_module": "@jupyter-widgets/controls"
          }
        },
        "6c6ae091f6094c9ea4372e59dc4785b8": {
          "model_module": "@jupyter-widgets/base",
          "model_name": "LayoutModel",
          "state": {
            "_view_name": "LayoutView",
            "grid_template_rows": null,
            "right": null,
            "justify_content": null,
            "_view_module": "@jupyter-widgets/base",
            "overflow": null,
            "_model_module_version": "1.2.0",
            "_view_count": null,
            "flex_flow": null,
            "width": null,
            "min_width": null,
            "border": null,
            "align_items": null,
            "bottom": null,
            "_model_module": "@jupyter-widgets/base",
            "top": null,
            "grid_column": null,
            "overflow_y": null,
            "overflow_x": null,
            "grid_auto_flow": null,
            "grid_area": null,
            "grid_template_columns": null,
            "flex": null,
            "_model_name": "LayoutModel",
            "justify_items": null,
            "grid_row": null,
            "max_height": null,
            "align_content": null,
            "visibility": null,
            "align_self": null,
            "height": null,
            "min_height": null,
            "padding": null,
            "grid_auto_rows": null,
            "grid_gap": null,
            "max_width": null,
            "order": null,
            "_view_module_version": "1.2.0",
            "grid_template_areas": null,
            "object_position": null,
            "object_fit": null,
            "grid_auto_columns": null,
            "margin": null,
            "display": null,
            "left": null
          }
        },
        "576fa5f99af74358959cddab5626aa64": {
          "model_module": "@jupyter-widgets/controls",
          "model_name": "DescriptionStyleModel",
          "state": {
            "_view_name": "StyleView",
            "_model_name": "DescriptionStyleModel",
            "description_width": "",
            "_view_module": "@jupyter-widgets/base",
            "_model_module_version": "1.5.0",
            "_view_count": null,
            "_view_module_version": "1.2.0",
            "_model_module": "@jupyter-widgets/controls"
          }
        },
        "a6c9f58f3a5143ee94f95bc3531186be": {
          "model_module": "@jupyter-widgets/base",
          "model_name": "LayoutModel",
          "state": {
            "_view_name": "LayoutView",
            "grid_template_rows": null,
            "right": null,
            "justify_content": null,
            "_view_module": "@jupyter-widgets/base",
            "overflow": null,
            "_model_module_version": "1.2.0",
            "_view_count": null,
            "flex_flow": null,
            "width": null,
            "min_width": null,
            "border": null,
            "align_items": null,
            "bottom": null,
            "_model_module": "@jupyter-widgets/base",
            "top": null,
            "grid_column": null,
            "overflow_y": null,
            "overflow_x": null,
            "grid_auto_flow": null,
            "grid_area": null,
            "grid_template_columns": null,
            "flex": null,
            "_model_name": "LayoutModel",
            "justify_items": null,
            "grid_row": null,
            "max_height": null,
            "align_content": null,
            "visibility": null,
            "align_self": null,
            "height": null,
            "min_height": null,
            "padding": null,
            "grid_auto_rows": null,
            "grid_gap": null,
            "max_width": null,
            "order": null,
            "_view_module_version": "1.2.0",
            "grid_template_areas": null,
            "object_position": null,
            "object_fit": null,
            "grid_auto_columns": null,
            "margin": null,
            "display": null,
            "left": null
          }
        }
      }
    }
  },
  "cells": [
    {
      "cell_type": "code",
      "metadata": {
        "id": "fWe1XxNHJndz"
      },
      "source": [
        "from functools import partial\n",
        "from collections import OrderedDict"
      ],
      "execution_count": 1,
      "outputs": []
    },
    {
      "cell_type": "code",
      "metadata": {
        "id": "sFSlQa--Jv3p"
      },
      "source": [
        "%config InlineBackend.figure_format = 'retina'\n",
        "\n",
        "import numpy as np\n",
        "\n",
        "import matplotlib.pyplot as plt\n",
        "from mpl_toolkits.axes_grid1 import ImageGrid"
      ],
      "execution_count": 2,
      "outputs": []
    },
    {
      "cell_type": "code",
      "metadata": {
        "id": "wbX4vd73Jv6L"
      },
      "source": [
        "import torch\n",
        "import torch.nn as nn\n",
        "import torch.nn.functional as F\n",
        "from torch.autograd import Variable\n",
        "\n",
        "import torchvision as tv"
      ],
      "execution_count": 3,
      "outputs": []
    },
    {
      "cell_type": "code",
      "metadata": {
        "id": "qbUSyMY6LcCO"
      },
      "source": [
        "from torch.utils.data import DataLoader\n",
        "from tqdm import tqdm\n",
        "from torch import optim"
      ],
      "execution_count": 28,
      "outputs": []
    },
    {
      "cell_type": "code",
      "metadata": {
        "colab": {
          "base_uri": "https://localhost:8080/"
        },
        "id": "z0Kb1K2wJwIA",
        "outputId": "53bd28b6-544c-4af2-ecd1-68ad8852b1cf"
      },
      "source": [
        "device = torch.device(\"cuda:0\" if torch.cuda.is_available() else \"cpu\")\n",
        "print(device)"
      ],
      "execution_count": 4,
      "outputs": [
        {
          "output_type": "stream",
          "text": [
            "cuda:0\n"
          ],
          "name": "stdout"
        }
      ]
    },
    {
      "cell_type": "code",
      "metadata": {
        "id": "_LPKqeiLJwJi"
      },
      "source": [
        "import requests\n",
        "import io"
      ],
      "execution_count": 5,
      "outputs": []
    },
    {
      "cell_type": "code",
      "metadata": {
        "id": "7aCSMzjRJwMv"
      },
      "source": [
        "def get_weights(bit_variant):\n",
        "  response = requests.get(f'https://storage.googleapis.com/bit_models/{bit_variant}.npz')\n",
        "  response.raise_for_status()\n",
        "  return np.load(io.BytesIO(response.content))"
      ],
      "execution_count": 6,
      "outputs": []
    },
    {
      "cell_type": "code",
      "metadata": {
        "id": "2jRnIMGhJwOY"
      },
      "source": [
        "class StdConv2d(nn.Conv2d):\n",
        "  def forward(self, x):\n",
        "    w = self.weight\n",
        "    v, m = torch.var_mean(w, dim=[1, 2, 3], keepdim=True, unbiased=False)\n",
        "    w = (w - m) / torch.sqrt(v + 1e-10)\n",
        "    return F.conv2d(x, w, self.bias, self.stride, self.padding, self.dilation, self.groups)"
      ],
      "execution_count": 7,
      "outputs": []
    },
    {
      "cell_type": "code",
      "metadata": {
        "id": "top8NNzBJwSJ"
      },
      "source": [
        "def conv3x3(cin, cout, stride=1, groups=1, bias=False):\n",
        "  return StdConv2d(cin, cout, kernel_size=3, stride=stride, padding=1, bias=bias, groups=groups)\n",
        "\n",
        "def conv1x1(cin, cout, stride=1, bias=False):\n",
        "  return StdConv2d(cin, cout, kernel_size=1, stride=stride, padding=0, bias=bias)"
      ],
      "execution_count": 8,
      "outputs": []
    },
    {
      "cell_type": "code",
      "metadata": {
        "id": "pOtZYdL5Ka9U"
      },
      "source": [
        "def tf2th(conv_weights):\n",
        "  \"\"\"Possibly convert HWIO to OIHW\"\"\"\n",
        "  if conv_weights.ndim == 4:\n",
        "    conv_weights = np.transpose(conv_weights, [3, 2, 0, 1])\n",
        "  return torch.from_numpy(conv_weights)"
      ],
      "execution_count": 9,
      "outputs": []
    },
    {
      "cell_type": "code",
      "metadata": {
        "id": "5GSK8DxGKb5Z"
      },
      "source": [
        "class PreActBottleneck(nn.Module):\n",
        "  \"\"\"\n",
        "  Follows the implementation of \"Identity Mappings in Deep Residual Networks\" here:\n",
        "  https://github.com/KaimingHe/resnet-1k-layers/blob/master/resnet-pre-act.lua\n",
        "\n",
        "  Except it puts the stride on 3x3 conv when available.\n",
        "  \"\"\"\n",
        "  def __init__(self, cin, cout=None, cmid=None, stride=1):\n",
        "    super().__init__()\n",
        "    cout = cout or cin\n",
        "    cmid = cmid or cout//4\n",
        "\n",
        "    self.gn1 = nn.GroupNorm(32, cin)\n",
        "    self.conv1 = conv1x1(cin, cmid)\n",
        "    self.gn2 = nn.GroupNorm(32, cmid)\n",
        "    self.conv2 = conv3x3(cmid, cmid, stride)  # Original ResNetv2 has it on conv1!!\n",
        "    self.gn3 = nn.GroupNorm(32, cmid)\n",
        "    self.conv3 = conv1x1(cmid, cout)\n",
        "    self.relu = nn.ReLU(inplace=True)\n",
        "\n",
        "    if (stride != 1 or cin != cout):\n",
        "      # Projection also with pre-activation according to paper.\n",
        "      self.downsample = conv1x1(cin, cout, stride)\n",
        "\n",
        "  def forward(self, x):\n",
        "      # Conv'ed branch\n",
        "      out = self.relu(self.gn1(x))\n",
        "\n",
        "      # Residual branch\n",
        "      residual = x\n",
        "      if hasattr(self, 'downsample'):\n",
        "          residual = self.downsample(out)\n",
        "\n",
        "      # The first block has already applied pre-act before splitting, see Appendix.\n",
        "      out = self.conv1(out)\n",
        "      out = self.conv2(self.relu(self.gn2(out)))\n",
        "      out = self.conv3(self.relu(self.gn3(out)))\n",
        "\n",
        "      return out + residual\n",
        "\n",
        "  def load_from(self, weights, prefix=''):\n",
        "    with torch.no_grad():\n",
        "      self.conv1.weight.copy_(tf2th(weights[prefix + 'a/standardized_conv2d/kernel']))\n",
        "      self.conv2.weight.copy_(tf2th(weights[prefix + 'b/standardized_conv2d/kernel']))\n",
        "      self.conv3.weight.copy_(tf2th(weights[prefix + 'c/standardized_conv2d/kernel']))\n",
        "      self.gn1.weight.copy_(tf2th(weights[prefix + 'a/group_norm/gamma']))\n",
        "      self.gn2.weight.copy_(tf2th(weights[prefix + 'b/group_norm/gamma']))\n",
        "      self.gn3.weight.copy_(tf2th(weights[prefix + 'c/group_norm/gamma']))\n",
        "      self.gn1.bias.copy_(tf2th(weights[prefix + 'a/group_norm/beta']))\n",
        "      self.gn2.bias.copy_(tf2th(weights[prefix + 'b/group_norm/beta']))\n",
        "      self.gn3.bias.copy_(tf2th(weights[prefix + 'c/group_norm/beta']))\n",
        "      if hasattr(self, 'downsample'):\n",
        "        self.downsample.weight.copy_(tf2th(weights[prefix + 'a/proj/standardized_conv2d/kernel']))\n",
        "    return self"
      ],
      "execution_count": 10,
      "outputs": []
    },
    {
      "cell_type": "code",
      "metadata": {
        "id": "ewwE3lF_KeVP"
      },
      "source": [
        "class ResNetV2(nn.Module):\n",
        "  BLOCK_UNITS = {\n",
        "      'r50': [3, 4, 6, 3],\n",
        "      'r101': [3, 4, 23, 3],\n",
        "      'r152': [3, 8, 36, 3],\n",
        "  }\n",
        "\n",
        "  def __init__(self, block_units, width_factor, head_size=21843, zero_head=False):\n",
        "    super().__init__()\n",
        "    wf = width_factor  # shortcut 'cause we'll use it a lot.\n",
        "\n",
        "    self.root = nn.Sequential(OrderedDict([\n",
        "        ('conv', StdConv2d(3, 64*wf, kernel_size=7, stride=2, padding=3, bias=False)),\n",
        "        ('padp', nn.ConstantPad2d(1, 0)),\n",
        "        ('pool', nn.MaxPool2d(kernel_size=3, stride=2, padding=0)),\n",
        "        # The following is subtly not the same!\n",
        "        #('pool', nn.MaxPool2d(kernel_size=3, stride=2, padding=1)),\n",
        "    ]))\n",
        "\n",
        "    self.body = nn.Sequential(OrderedDict([\n",
        "        ('block1', nn.Sequential(OrderedDict(\n",
        "            [('unit01', PreActBottleneck(cin= 64*wf, cout=256*wf, cmid=64*wf))] +\n",
        "            [(f'unit{i:02d}', PreActBottleneck(cin=256*wf, cout=256*wf, cmid=64*wf)) for i in range(2, block_units[0] + 1)],\n",
        "        ))),\n",
        "        ('block2', nn.Sequential(OrderedDict(\n",
        "            [('unit01', PreActBottleneck(cin=256*wf, cout=512*wf, cmid=128*wf, stride=2))] +\n",
        "            [(f'unit{i:02d}', PreActBottleneck(cin=512*wf, cout=512*wf, cmid=128*wf)) for i in range(2, block_units[1] + 1)],\n",
        "        ))),\n",
        "        ('block3', nn.Sequential(OrderedDict(\n",
        "            [('unit01', PreActBottleneck(cin= 512*wf, cout=1024*wf, cmid=256*wf, stride=2))] +\n",
        "            [(f'unit{i:02d}', PreActBottleneck(cin=1024*wf, cout=1024*wf, cmid=256*wf)) for i in range(2, block_units[2] + 1)],\n",
        "        ))),\n",
        "        ('block4', nn.Sequential(OrderedDict(\n",
        "            [('unit01', PreActBottleneck(cin=1024*wf, cout=2048*wf, cmid=512*wf, stride=2))] +\n",
        "            [(f'unit{i:02d}', PreActBottleneck(cin=2048*wf, cout=2048*wf, cmid=512*wf)) for i in range(2, block_units[3] + 1)],\n",
        "        ))),\n",
        "    ]))\n",
        "\n",
        "    self.zero_head = zero_head\n",
        "    self.head = nn.Sequential(OrderedDict([\n",
        "        ('gn', nn.GroupNorm(32, 2048*wf)),\n",
        "        ('relu', nn.ReLU(inplace=True)),\n",
        "        ('avg', nn.AdaptiveAvgPool2d(output_size=1)),\n",
        "        ('conv', nn.Conv2d(2048*wf, head_size, kernel_size=1, bias=True)),\n",
        "    ]))\n",
        "  \n",
        "  def forward(self, x):\n",
        "    x = (self.body(self.root(x)))\n",
        "    #assert x.shape[-2:] == (1, 1)  # We should have no spatial shape left.\n",
        "    #return x[...,0,0]\n",
        "    return x\n",
        "\n",
        "  def load_from(self, weights, prefix='resnet/'):\n",
        "    with torch.no_grad():\n",
        "      self.root.conv.weight.copy_(tf2th(weights[f'{prefix}root_block/standardized_conv2d/kernel']))\n",
        "      self.head.gn.weight.copy_(tf2th(weights[f'{prefix}group_norm/gamma']))\n",
        "      self.head.gn.bias.copy_(tf2th(weights[f'{prefix}group_norm/beta']))\n",
        "      if self.zero_head:\n",
        "        nn.init.zeros_(self.head.conv.weight)\n",
        "        nn.init.zeros_(self.head.conv.bias)\n",
        "      else:\n",
        "        self.head.conv.weight.copy_(tf2th(weights[f'{prefix}head/conv2d/kernel']))\n",
        "        self.head.conv.bias.copy_(tf2th(weights[f'{prefix}head/conv2d/bias']))\n",
        "\n",
        "      for bname, block in self.body.named_children():\n",
        "        for uname, unit in block.named_children():\n",
        "          unit.load_from(weights, prefix=f'{prefix}{bname}/{uname}/')\n",
        "    return self"
      ],
      "execution_count": 11,
      "outputs": []
    },
    {
      "cell_type": "code",
      "metadata": {
        "id": "uQmoGSTwKgZM"
      },
      "source": [
        "from IPython.display import HTML, display\n",
        "\n",
        "def progress(value, max=100):\n",
        "    return HTML(\"\"\"\n",
        "        <progress\n",
        "            value='{value}'\n",
        "            max='{max}',\n",
        "            style='width: 100%'\n",
        "        >\n",
        "            {value}\n",
        "        </progress>\n",
        "    \"\"\".format(value=value, max=max))"
      ],
      "execution_count": 12,
      "outputs": []
    },
    {
      "cell_type": "code",
      "metadata": {
        "id": "B5E5eECPKkrG"
      },
      "source": [
        "def stairs(s, v, *svs):\n",
        "    \"\"\" Implements a typical \"stairs\" schedule for learning-rates.\n",
        "    Best explained by example:\n",
        "    stairs(s, 0.1, 10, 0.01, 20, 0.001)\n",
        "    will return 0.1 if s<10, 0.01 if 10<=s<20, and 0.001 if 20<=s\n",
        "    \"\"\"\n",
        "    for s0, v0 in zip(svs[::2], svs[1::2]):\n",
        "        if s < s0:\n",
        "            break\n",
        "        v = v0\n",
        "    return v\n",
        "\n",
        "def rampup(s, peak_s, peak_lr):\n",
        "  if s < peak_s:  # Warmup\n",
        "    return s/peak_s * peak_lr\n",
        "  else:\n",
        "    return peak_lr\n",
        "\n",
        "def schedule(s):\n",
        "  step_lr = stairs(s, 3e-3, 200, 3e-4, 300, 3e-5, 400, 3e-6, 500, None)\n",
        "  return rampup(s, 100, step_lr)"
      ],
      "execution_count": 13,
      "outputs": []
    },
    {
      "cell_type": "code",
      "metadata": {
        "id": "xdchQoyYKmbv"
      },
      "source": [
        "import PIL"
      ],
      "execution_count": 14,
      "outputs": []
    },
    {
      "cell_type": "code",
      "metadata": {
        "colab": {
          "base_uri": "https://localhost:8080/",
          "height": 97,
          "referenced_widgets": [
            "3daae577eb7847e681d26a2f5f80d5a6",
            "5aada935278b4e3ab6a4c9dce89e0a93",
            "2eec5b39fa6d45c9b6683e04b0302602",
            "1fe8a70d52564451bd66bffa834e4e68",
            "7245b6fd36ab443a8beadf411469d55e",
            "6c6ae091f6094c9ea4372e59dc4785b8",
            "576fa5f99af74358959cddab5626aa64",
            "a6c9f58f3a5143ee94f95bc3531186be"
          ]
        },
        "id": "yHFOoOknKomS",
        "outputId": "35a116ef-9ca5-435d-b9bc-1e3f00daf47a"
      },
      "source": [
        "preprocess_train = tv.transforms.Compose([\n",
        "    tv.transforms.Resize((160, 160), interpolation=PIL.Image.BILINEAR),  # It's the default, just being explicit for the reader.\n",
        "    tv.transforms.RandomCrop((128, 128)),\n",
        "    tv.transforms.RandomHorizontalFlip(),\n",
        "    tv.transforms.ToTensor(),\n",
        "    tv.transforms.Normalize((0.5, 0.5, 0.5), (0.5, 0.5, 0.5))  # Get data into [-1, 1]\n",
        "])\n",
        "\n",
        "preprocess_eval = tv.transforms.Compose([\n",
        "    tv.transforms.Resize((128, 128), interpolation=PIL.Image.BILINEAR),\n",
        "    tv.transforms.ToTensor(),\n",
        "    tv.transforms.Normalize((0.5, 0.5, 0.5), (0.5, 0.5, 0.5))\n",
        "])\n",
        "\n",
        "trainset = tv.datasets.CIFAR100(root='./data', train=True, download=True, transform=preprocess_train)\n",
        "testset = tv.datasets.CIFAR100(root='./data', train=False, download=True, transform=preprocess_eval)"
      ],
      "execution_count": 15,
      "outputs": [
        {
          "output_type": "stream",
          "text": [
            "Downloading https://www.cs.toronto.edu/~kriz/cifar-100-python.tar.gz to ./data/cifar-100-python.tar.gz\n"
          ],
          "name": "stdout"
        },
        {
          "output_type": "display_data",
          "data": {
            "application/vnd.jupyter.widget-view+json": {
              "model_id": "3daae577eb7847e681d26a2f5f80d5a6",
              "version_minor": 0,
              "version_major": 2
            },
            "text/plain": [
              "HBox(children=(FloatProgress(value=1.0, bar_style='info', max=1.0), HTML(value='')))"
            ]
          },
          "metadata": {
            "tags": []
          }
        },
        {
          "output_type": "stream",
          "text": [
            "Extracting ./data/cifar-100-python.tar.gz to ./data\n",
            "Files already downloaded and verified\n"
          ],
          "name": "stdout"
        }
      ]
    },
    {
      "cell_type": "code",
      "metadata": {
        "id": "4YcLMIFHKqMw"
      },
      "source": [
        "weights_cifar10 = get_weights('BiT-M-R50x1')"
      ],
      "execution_count": 16,
      "outputs": []
    },
    {
      "cell_type": "code",
      "metadata": {
        "id": "wua9EU8qKs0e"
      },
      "source": [
        "res = ResNetV2(ResNetV2.BLOCK_UNITS['r50'], width_factor=1, head_size=21843)  # NOTE: No new head.\n",
        "res.load_from(weights_cifar10)\n",
        "res.to(device);"
      ],
      "execution_count": 17,
      "outputs": []
    },
    {
      "cell_type": "code",
      "metadata": {
        "id": "5MrRWUpkKvbY"
      },
      "source": [
        "class ClassificationHead(nn.Module):\n",
        "    def __init__(self, wf, classes, dropout=0.1):\n",
        "        super(ClassificationHead, self).__init__()\n",
        "        self.wf = wf\n",
        "        self.classes = classes\n",
        "        self.gn = nn.GroupNorm(32, 2048*wf)\n",
        "        self.relu = nn.ReLU(inplace=True)\n",
        "        self.avg = nn.AdaptiveAvgPool2d(output_size=1)\n",
        "        self.conv = nn.Conv2d(2048*wf, classes, kernel_size=1, bias=True)\n",
        "        self.dropout = nn.Dropout(dropout)\n",
        "    \n",
        "    def forward(self, inp):\n",
        "        # inp: (batch_size, embed_dim)\n",
        "        #batch_size, embed_dim = inp.size()\n",
        "        #assert embed_dim == self.embed_dim\n",
        "\n",
        "        out = self.dropout(self.avg(self.relu(self.gn(inp))))\n",
        "        out = self.conv(out)\n",
        "\n",
        "        # out: (batch_size, embed_dim) | SoftMaxed along the last dimension\n",
        "        return out[...,0,0]"
      ],
      "execution_count": 24,
      "outputs": []
    },
    {
      "cell_type": "code",
      "metadata": {
        "id": "dhQi4HzZKx2x"
      },
      "source": [
        "lr = 0.001\n",
        "weight_decay = 0.0001\n",
        "dropout = 0.3\n",
        "batch_size = 64\n",
        "num_workers = 2\n",
        "shuffle = True\n",
        "patch_size = 4\n",
        "max_len = ((32//patch_size) * (32//patch_size)) + 1 # +1 for the class token\n",
        "embed_dim = 128\n",
        "classes = 100\n",
        "layers = 6\n",
        "heads = 8\n",
        "epochs = 30"
      ],
      "execution_count": 19,
      "outputs": []
    },
    {
      "cell_type": "code",
      "metadata": {
        "colab": {
          "base_uri": "https://localhost:8080/"
        },
        "id": "Oi1JTssTK0lw",
        "outputId": "f4b24a4a-371d-4cbc-aeca-074ee8860e53"
      },
      "source": [
        "from google.colab import drive\n",
        "drive.mount('/content/gdrive')"
      ],
      "execution_count": 20,
      "outputs": [
        {
          "output_type": "stream",
          "text": [
            "Mounted at /content/gdrive\n"
          ],
          "name": "stdout"
        }
      ]
    },
    {
      "cell_type": "code",
      "metadata": {
        "id": "4ehp1TcMK25K"
      },
      "source": [
        "model_save_name = 'resnet.pt'\n",
        "path = F\"/content/gdrive/My Drive/{model_save_name}\" "
      ],
      "execution_count": 21,
      "outputs": []
    },
    {
      "cell_type": "code",
      "metadata": {
        "colab": {
          "base_uri": "https://localhost:8080/"
        },
        "id": "FKEtFeogK9uH",
        "outputId": "443376ef-97e1-489f-cd2b-89bb1315ef3b"
      },
      "source": [
        "model = ClassificationHead(1, classes, dropout).to(device)\n",
        "dataloader = DataLoader(trainset, batch_size=batch_size, num_workers=num_workers, shuffle=True)\n",
        "criterion = nn.CrossEntropyLoss().to(device)\n",
        "optimizer = optim.AdamW(model.parameters(), lr=lr,weight_decay=weight_decay)\n",
        "scheduler = optim.lr_scheduler.OneCycleLR(optimizer, max_lr=lr, steps_per_epoch=len(dataloader), epochs=epochs)\n",
        "\n",
        "model.train()\n",
        "best_acc = 0\n",
        "curr_acc = 0\n",
        "\n",
        "for epoch in range(epochs):\n",
        "\n",
        "    running_loss = 0.0\n",
        "    running_accuracy = 0.0\n",
        "\n",
        "    for data, target in tqdm(dataloader):\n",
        "        optimizer.zero_grad()\n",
        "        data = data.to(device)\n",
        "        target = target.to(device)\n",
        "\n",
        "        res_output = res(data)\n",
        "        output = model(res_output)\n",
        "        loss = criterion(output, target)\n",
        "        \n",
        "        loss.backward()\n",
        "        optimizer.step()\n",
        "        scheduler.step()\n",
        "\n",
        "        acc = (output.argmax(dim=1) == target).float().mean()\n",
        "        running_accuracy += acc / len(dataloader)\n",
        "        running_loss += loss.item() / len(dataloader)\n",
        "    curr_acc = running_accuracy\n",
        "    if(best_acc < curr_acc):\n",
        "      torch.save({\n",
        "                'epoch':epoch,\n",
        "                'optimizer': optimizer.state_dict(),\n",
        "                'model': model.state_dict(),\n",
        "                'train_loss': running_loss,\n",
        "                'train_acc' : running_accuracy\n",
        "            }, path)\n",
        "      best_acc = curr_acc\n",
        "    \n",
        "    print(f\"Epoch : {epoch+1} - loss : {running_loss:.4f} - acc: {running_accuracy:.4f}\\n\")"
      ],
      "execution_count": 29,
      "outputs": [
        {
          "output_type": "stream",
          "text": [
            "100%|██████████| 782/782 [03:29<00:00,  3.73it/s]\n",
            "  0%|          | 0/782 [00:00<?, ?it/s]"
          ],
          "name": "stderr"
        },
        {
          "output_type": "stream",
          "text": [
            "Epoch : 1 - loss : 3.4445 - acc: 0.3658\n",
            "\n"
          ],
          "name": "stdout"
        },
        {
          "output_type": "stream",
          "text": [
            "100%|██████████| 782/782 [03:36<00:00,  3.61it/s]\n",
            "  0%|          | 0/782 [00:00<?, ?it/s]"
          ],
          "name": "stderr"
        },
        {
          "output_type": "stream",
          "text": [
            "Epoch : 2 - loss : 1.6810 - acc: 0.6559\n",
            "\n"
          ],
          "name": "stdout"
        },
        {
          "output_type": "stream",
          "text": [
            "100%|██████████| 782/782 [03:38<00:00,  3.58it/s]\n",
            "  0%|          | 0/782 [00:00<?, ?it/s]"
          ],
          "name": "stderr"
        },
        {
          "output_type": "stream",
          "text": [
            "Epoch : 3 - loss : 1.0910 - acc: 0.7109\n",
            "\n"
          ],
          "name": "stdout"
        },
        {
          "output_type": "stream",
          "text": [
            "100%|██████████| 782/782 [03:37<00:00,  3.59it/s]\n",
            "  0%|          | 0/782 [00:00<?, ?it/s]"
          ],
          "name": "stderr"
        },
        {
          "output_type": "stream",
          "text": [
            "Epoch : 4 - loss : 0.9188 - acc: 0.7355\n",
            "\n"
          ],
          "name": "stdout"
        },
        {
          "output_type": "stream",
          "text": [
            "100%|██████████| 782/782 [03:37<00:00,  3.59it/s]\n",
            "  0%|          | 0/782 [00:00<?, ?it/s]"
          ],
          "name": "stderr"
        },
        {
          "output_type": "stream",
          "text": [
            "Epoch : 5 - loss : 0.8583 - acc: 0.7482\n",
            "\n"
          ],
          "name": "stdout"
        },
        {
          "output_type": "stream",
          "text": [
            "100%|██████████| 782/782 [03:37<00:00,  3.59it/s]\n",
            "  0%|          | 0/782 [00:00<?, ?it/s]"
          ],
          "name": "stderr"
        },
        {
          "output_type": "stream",
          "text": [
            "Epoch : 6 - loss : 0.8212 - acc: 0.7545\n",
            "\n"
          ],
          "name": "stdout"
        },
        {
          "output_type": "stream",
          "text": [
            "100%|██████████| 782/782 [03:37<00:00,  3.59it/s]\n",
            "  0%|          | 0/782 [00:00<?, ?it/s]"
          ],
          "name": "stderr"
        },
        {
          "output_type": "stream",
          "text": [
            "Epoch : 7 - loss : 0.8055 - acc: 0.7592\n",
            "\n"
          ],
          "name": "stdout"
        },
        {
          "output_type": "stream",
          "text": [
            "100%|██████████| 782/782 [03:37<00:00,  3.59it/s]\n",
            "  0%|          | 0/782 [00:00<?, ?it/s]"
          ],
          "name": "stderr"
        },
        {
          "output_type": "stream",
          "text": [
            "Epoch : 8 - loss : 0.7864 - acc: 0.7646\n",
            "\n"
          ],
          "name": "stdout"
        },
        {
          "output_type": "stream",
          "text": [
            "100%|██████████| 782/782 [03:37<00:00,  3.59it/s]\n",
            "  0%|          | 0/782 [00:00<?, ?it/s]"
          ],
          "name": "stderr"
        },
        {
          "output_type": "stream",
          "text": [
            "Epoch : 9 - loss : 0.7648 - acc: 0.7681\n",
            "\n"
          ],
          "name": "stdout"
        },
        {
          "output_type": "stream",
          "text": [
            "100%|██████████| 782/782 [03:37<00:00,  3.59it/s]\n",
            "  0%|          | 0/782 [00:00<?, ?it/s]"
          ],
          "name": "stderr"
        },
        {
          "output_type": "stream",
          "text": [
            "Epoch : 10 - loss : 0.7415 - acc: 0.7752\n",
            "\n"
          ],
          "name": "stdout"
        },
        {
          "output_type": "stream",
          "text": [
            "100%|██████████| 782/782 [03:37<00:00,  3.59it/s]\n",
            "  0%|          | 0/782 [00:00<?, ?it/s]"
          ],
          "name": "stderr"
        },
        {
          "output_type": "stream",
          "text": [
            "Epoch : 11 - loss : 0.7138 - acc: 0.7837\n",
            "\n"
          ],
          "name": "stdout"
        },
        {
          "output_type": "stream",
          "text": [
            "100%|██████████| 782/782 [03:37<00:00,  3.59it/s]\n",
            "  0%|          | 0/782 [00:00<?, ?it/s]"
          ],
          "name": "stderr"
        },
        {
          "output_type": "stream",
          "text": [
            "Epoch : 12 - loss : 0.6975 - acc: 0.7886\n",
            "\n"
          ],
          "name": "stdout"
        },
        {
          "output_type": "stream",
          "text": [
            "100%|██████████| 782/782 [03:37<00:00,  3.59it/s]\n",
            "  0%|          | 0/782 [00:00<?, ?it/s]"
          ],
          "name": "stderr"
        },
        {
          "output_type": "stream",
          "text": [
            "Epoch : 13 - loss : 0.6751 - acc: 0.7935\n",
            "\n"
          ],
          "name": "stdout"
        },
        {
          "output_type": "stream",
          "text": [
            "100%|██████████| 782/782 [03:37<00:00,  3.59it/s]\n",
            "  0%|          | 0/782 [00:00<?, ?it/s]"
          ],
          "name": "stderr"
        },
        {
          "output_type": "stream",
          "text": [
            "Epoch : 14 - loss : 0.6575 - acc: 0.7972\n",
            "\n"
          ],
          "name": "stdout"
        },
        {
          "output_type": "stream",
          "text": [
            "100%|██████████| 782/782 [03:37<00:00,  3.59it/s]\n",
            "  0%|          | 0/782 [00:00<?, ?it/s]"
          ],
          "name": "stderr"
        },
        {
          "output_type": "stream",
          "text": [
            "Epoch : 15 - loss : 0.6364 - acc: 0.8022\n",
            "\n"
          ],
          "name": "stdout"
        },
        {
          "output_type": "stream",
          "text": [
            "100%|██████████| 782/782 [03:37<00:00,  3.59it/s]\n",
            "  0%|          | 0/782 [00:00<?, ?it/s]"
          ],
          "name": "stderr"
        },
        {
          "output_type": "stream",
          "text": [
            "Epoch : 16 - loss : 0.6259 - acc: 0.8070\n",
            "\n"
          ],
          "name": "stdout"
        },
        {
          "output_type": "stream",
          "text": [
            "100%|██████████| 782/782 [03:38<00:00,  3.59it/s]\n",
            "  0%|          | 0/782 [00:00<?, ?it/s]"
          ],
          "name": "stderr"
        },
        {
          "output_type": "stream",
          "text": [
            "Epoch : 17 - loss : 0.6079 - acc: 0.8114\n",
            "\n"
          ],
          "name": "stdout"
        },
        {
          "output_type": "stream",
          "text": [
            "100%|██████████| 782/782 [03:37<00:00,  3.59it/s]\n",
            "  0%|          | 0/782 [00:00<?, ?it/s]"
          ],
          "name": "stderr"
        },
        {
          "output_type": "stream",
          "text": [
            "Epoch : 18 - loss : 0.5840 - acc: 0.8175\n",
            "\n"
          ],
          "name": "stdout"
        },
        {
          "output_type": "stream",
          "text": [
            "100%|██████████| 782/782 [03:38<00:00,  3.58it/s]\n",
            "  0%|          | 0/782 [00:00<?, ?it/s]"
          ],
          "name": "stderr"
        },
        {
          "output_type": "stream",
          "text": [
            "Epoch : 19 - loss : 0.5819 - acc: 0.8188\n",
            "\n"
          ],
          "name": "stdout"
        },
        {
          "output_type": "stream",
          "text": [
            "100%|██████████| 782/782 [03:38<00:00,  3.58it/s]\n",
            "  0%|          | 0/782 [00:00<?, ?it/s]"
          ],
          "name": "stderr"
        },
        {
          "output_type": "stream",
          "text": [
            "Epoch : 20 - loss : 0.5628 - acc: 0.8229\n",
            "\n"
          ],
          "name": "stdout"
        },
        {
          "output_type": "stream",
          "text": [
            "100%|██████████| 782/782 [03:38<00:00,  3.58it/s]\n",
            "  0%|          | 0/782 [00:00<?, ?it/s]"
          ],
          "name": "stderr"
        },
        {
          "output_type": "stream",
          "text": [
            "Epoch : 21 - loss : 0.5514 - acc: 0.8262\n",
            "\n"
          ],
          "name": "stdout"
        },
        {
          "output_type": "stream",
          "text": [
            "100%|██████████| 782/782 [03:38<00:00,  3.59it/s]\n",
            "  0%|          | 0/782 [00:00<?, ?it/s]"
          ],
          "name": "stderr"
        },
        {
          "output_type": "stream",
          "text": [
            "Epoch : 22 - loss : 0.5392 - acc: 0.8301\n",
            "\n"
          ],
          "name": "stdout"
        },
        {
          "output_type": "stream",
          "text": [
            "100%|██████████| 782/782 [03:37<00:00,  3.59it/s]\n",
            "  0%|          | 0/782 [00:00<?, ?it/s]"
          ],
          "name": "stderr"
        },
        {
          "output_type": "stream",
          "text": [
            "Epoch : 23 - loss : 0.5314 - acc: 0.8318\n",
            "\n"
          ],
          "name": "stdout"
        },
        {
          "output_type": "stream",
          "text": [
            "100%|██████████| 782/782 [03:37<00:00,  3.59it/s]\n",
            "  0%|          | 0/782 [00:00<?, ?it/s]"
          ],
          "name": "stderr"
        },
        {
          "output_type": "stream",
          "text": [
            "Epoch : 24 - loss : 0.5182 - acc: 0.8361\n",
            "\n"
          ],
          "name": "stdout"
        },
        {
          "output_type": "stream",
          "text": [
            "100%|██████████| 782/782 [03:37<00:00,  3.59it/s]\n",
            "  0%|          | 0/782 [00:00<?, ?it/s]"
          ],
          "name": "stderr"
        },
        {
          "output_type": "stream",
          "text": [
            "Epoch : 25 - loss : 0.5121 - acc: 0.8383\n",
            "\n"
          ],
          "name": "stdout"
        },
        {
          "output_type": "stream",
          "text": [
            "100%|██████████| 782/782 [03:37<00:00,  3.59it/s]\n",
            "  0%|          | 0/782 [00:00<?, ?it/s]"
          ],
          "name": "stderr"
        },
        {
          "output_type": "stream",
          "text": [
            "Epoch : 26 - loss : 0.5081 - acc: 0.8393\n",
            "\n"
          ],
          "name": "stdout"
        },
        {
          "output_type": "stream",
          "text": [
            "100%|██████████| 782/782 [03:38<00:00,  3.59it/s]\n",
            "  0%|          | 0/782 [00:00<?, ?it/s]"
          ],
          "name": "stderr"
        },
        {
          "output_type": "stream",
          "text": [
            "Epoch : 27 - loss : 0.5065 - acc: 0.8394\n",
            "\n"
          ],
          "name": "stdout"
        },
        {
          "output_type": "stream",
          "text": [
            "100%|██████████| 782/782 [03:37<00:00,  3.59it/s]\n",
            "  0%|          | 0/782 [00:00<?, ?it/s]"
          ],
          "name": "stderr"
        },
        {
          "output_type": "stream",
          "text": [
            "Epoch : 28 - loss : 0.4963 - acc: 0.8444\n",
            "\n"
          ],
          "name": "stdout"
        },
        {
          "output_type": "stream",
          "text": [
            "100%|██████████| 782/782 [03:37<00:00,  3.59it/s]\n",
            "  0%|          | 0/782 [00:00<?, ?it/s]"
          ],
          "name": "stderr"
        },
        {
          "output_type": "stream",
          "text": [
            "Epoch : 29 - loss : 0.4997 - acc: 0.8419\n",
            "\n"
          ],
          "name": "stdout"
        },
        {
          "output_type": "stream",
          "text": [
            "100%|██████████| 782/782 [03:38<00:00,  3.58it/s]"
          ],
          "name": "stderr"
        },
        {
          "output_type": "stream",
          "text": [
            "Epoch : 30 - loss : 0.4943 - acc: 0.8446\n",
            "\n"
          ],
          "name": "stdout"
        },
        {
          "output_type": "stream",
          "text": [
            "\n"
          ],
          "name": "stderr"
        }
      ]
    },
    {
      "cell_type": "code",
      "metadata": {
        "id": "xB0xXK_VLGmz"
      },
      "source": [
        "def load_checkpoint(filepath):\n",
        "    checkpoint = torch.load(filepath)\n",
        "    model = ClassificationHead(1, 100, dropout=0.3).to(device)\n",
        "    model.load_state_dict(checkpoint['model'])\n",
        "    for parameter in model.parameters():\n",
        "        parameter.requires_grad = False\n",
        "    \n",
        "    model.eval()\n",
        "    \n",
        "    return model"
      ],
      "execution_count": 30,
      "outputs": []
    },
    {
      "cell_type": "code",
      "metadata": {
        "id": "7Li7KN-cLqyp"
      },
      "source": [
        "model = load_checkpoint(path)"
      ],
      "execution_count": null,
      "outputs": []
    },
    {
      "cell_type": "code",
      "metadata": {
        "id": "_6hOqyZHLtbe"
      },
      "source": [
        "def eval_cifar10(model, bs=100, progressbar=True):\n",
        "  loader_test = torch.utils.data.DataLoader(testset, batch_size=bs, shuffle=False, num_workers=2)\n",
        "\n",
        "  model.eval()\n",
        "\n",
        "  if progressbar is True:\n",
        "    progressbar = display(progress(0, len(loader_test)), display_id=True)\n",
        "\n",
        "  preds = []\n",
        "  with torch.no_grad():\n",
        "    for i, (x, t) in enumerate(loader_test):\n",
        "      x, t = x.to(device), t.numpy()\n",
        "      temp = res(x)\n",
        "      logits = model(temp)\n",
        "      _, y = torch.max(logits.data, 1)\n",
        "      preds.extend(y.cpu().numpy() == t)\n",
        "      progressbar.update(progress(i+1, len(loader_test)))\n",
        "\n",
        "  return np.mean(preds)"
      ],
      "execution_count": 31,
      "outputs": []
    },
    {
      "cell_type": "code",
      "metadata": {
        "colab": {
          "base_uri": "https://localhost:8080/",
          "height": 66
        },
        "id": "D704w69-LyL1",
        "outputId": "2e63f9d5-5acc-4c46-fba9-a52a08c24562"
      },
      "source": [
        "print(\"Expected: 97.61%\")\n",
        "print(f\"Accuracy: {eval_cifar10(model):.2%}\")"
      ],
      "execution_count": 32,
      "outputs": [
        {
          "output_type": "stream",
          "text": [
            "Expected: 97.61%\n"
          ],
          "name": "stdout"
        },
        {
          "output_type": "display_data",
          "data": {
            "text/html": [
              "\n",
              "        <progress\n",
              "            value='100'\n",
              "            max='100',\n",
              "            style='width: 100%'\n",
              "        >\n",
              "            100\n",
              "        </progress>\n",
              "    "
            ],
            "text/plain": [
              "<IPython.core.display.HTML object>"
            ]
          },
          "metadata": {
            "tags": []
          }
        },
        {
          "output_type": "stream",
          "text": [
            "Accuracy: 79.60%\n"
          ],
          "name": "stdout"
        }
      ]
    },
    {
      "cell_type": "code",
      "metadata": {
        "id": "R8TBJTCOkiui"
      },
      "source": [
        ""
      ],
      "execution_count": null,
      "outputs": []
    }
  ]
}